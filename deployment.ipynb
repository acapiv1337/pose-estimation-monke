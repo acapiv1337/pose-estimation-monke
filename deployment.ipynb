{
 "cells": [
  {
   "cell_type": "code",
   "execution_count": 2,
   "id": "9e84e692",
   "metadata": {},
   "outputs": [
    {
     "ename": "XauthError",
     "evalue": "~/.Xauthority: [Errno 2] No such file or directory: '/home/cap/.Xauthority'",
     "output_type": "error",
     "traceback": [
      "\u001b[31m---------------------------------------------------------------------------\u001b[39m",
      "\u001b[31mFileNotFoundError\u001b[39m                         Traceback (most recent call last)",
      "\u001b[36mFile \u001b[39m\u001b[32m~/pose-estimation/.venv/lib/python3.12/site-packages/Xlib/xauth.py:43\u001b[39m, in \u001b[36mXauthority.__init__\u001b[39m\u001b[34m(self, filename)\u001b[39m\n\u001b[32m     42\u001b[39m \u001b[38;5;28;01mtry\u001b[39;00m:\n\u001b[32m---> \u001b[39m\u001b[32m43\u001b[39m     raw = \u001b[38;5;28;43mopen\u001b[39;49m\u001b[43m(\u001b[49m\u001b[43mfilename\u001b[49m\u001b[43m,\u001b[49m\u001b[43m \u001b[49m\u001b[33;43m'\u001b[39;49m\u001b[33;43mrb\u001b[39;49m\u001b[33;43m'\u001b[39;49m\u001b[43m)\u001b[49m.read()\n\u001b[32m     44\u001b[39m \u001b[38;5;28;01mexcept\u001b[39;00m \u001b[38;5;167;01mOSError\u001b[39;00m \u001b[38;5;28;01mas\u001b[39;00m err:\n",
      "\u001b[31mFileNotFoundError\u001b[39m: [Errno 2] No such file or directory: '/home/cap/.Xauthority'",
      "\nDuring handling of the above exception, another exception occurred:\n",
      "\u001b[31mXauthError\u001b[39m                                Traceback (most recent call last)",
      "\u001b[36mCell\u001b[39m\u001b[36m \u001b[39m\u001b[32mIn[2]\u001b[39m\u001b[32m, line 3\u001b[39m\n\u001b[32m      1\u001b[39m \u001b[38;5;28;01mimport\u001b[39;00m\u001b[38;5;250m \u001b[39m\u001b[34;01mcv2\u001b[39;00m\n\u001b[32m      2\u001b[39m \u001b[38;5;28;01mimport\u001b[39;00m\u001b[38;5;250m \u001b[39m\u001b[34;01mnumpy\u001b[39;00m\u001b[38;5;250m \u001b[39m\u001b[38;5;28;01mas\u001b[39;00m\u001b[38;5;250m \u001b[39m\u001b[34;01mnp\u001b[39;00m\n\u001b[32m----> \u001b[39m\u001b[32m3\u001b[39m \u001b[38;5;28;01mimport\u001b[39;00m\u001b[38;5;250m \u001b[39m\u001b[34;01mpyautogui\u001b[39;00m\n\u001b[32m      5\u001b[39m \u001b[38;5;28;01mwhile\u001b[39;00m \u001b[38;5;28;01mTrue\u001b[39;00m:\n\u001b[32m      6\u001b[39m     screenshot = pyautogui.screenshot()\n",
      "\u001b[36mFile \u001b[39m\u001b[32m~/pose-estimation/.venv/lib/python3.12/site-packages/pyautogui/__init__.py:246\u001b[39m\n\u001b[32m    242\u001b[39m     screenshot = _couldNotImportPyScreeze\n\u001b[32m    245\u001b[39m \u001b[38;5;28;01mtry\u001b[39;00m:\n\u001b[32m--> \u001b[39m\u001b[32m246\u001b[39m     \u001b[38;5;28;01mimport\u001b[39;00m\u001b[38;5;250m \u001b[39m\u001b[34;01mmouseinfo\u001b[39;00m\n\u001b[32m    248\u001b[39m     \u001b[38;5;28;01mdef\u001b[39;00m\u001b[38;5;250m \u001b[39m\u001b[34mmouseInfo\u001b[39m():\n\u001b[32m    249\u001b[39m \u001b[38;5;250m        \u001b[39m\u001b[33;03m\"\"\"\u001b[39;00m\n\u001b[32m    250\u001b[39m \u001b[33;03m        Launches the MouseInfo app. This application provides mouse coordinate information which can be useful when\u001b[39;00m\n\u001b[32m    251\u001b[39m \u001b[33;03m        planning GUI automation tasks. This function blocks until the application is closed.\u001b[39;00m\n\u001b[32m    252\u001b[39m \u001b[33;03m        \"\"\"\u001b[39;00m\n",
      "\u001b[36mFile \u001b[39m\u001b[32m~/pose-estimation/.venv/lib/python3.12/site-packages/mouseinfo/__init__.py:223\u001b[39m\n\u001b[32m    220\u001b[39m     \u001b[38;5;28;01melse\u001b[39;00m:\n\u001b[32m    221\u001b[39m         \u001b[38;5;28;01mraise\u001b[39;00m\n\u001b[32m--> \u001b[39m\u001b[32m223\u001b[39m _display = \u001b[43mDisplay\u001b[49m\u001b[43m(\u001b[49m\u001b[43mos\u001b[49m\u001b[43m.\u001b[49m\u001b[43menviron\u001b[49m\u001b[43m[\u001b[49m\u001b[33;43m'\u001b[39;49m\u001b[33;43mDISPLAY\u001b[39;49m\u001b[33;43m'\u001b[39;49m\u001b[43m]\u001b[49m\u001b[43m)\u001b[49m\n\u001b[32m    225\u001b[39m \u001b[38;5;28;01mdef\u001b[39;00m\u001b[38;5;250m \u001b[39m\u001b[34m_linuxPosition\u001b[39m():\n\u001b[32m    226\u001b[39m     coord = _display.screen().root.query_pointer()._data\n",
      "\u001b[36mFile \u001b[39m\u001b[32m~/pose-estimation/.venv/lib/python3.12/site-packages/Xlib/display.py:80\u001b[39m, in \u001b[36mDisplay.__init__\u001b[39m\u001b[34m(self, display)\u001b[39m\n\u001b[32m     79\u001b[39m \u001b[38;5;28;01mdef\u001b[39;00m\u001b[38;5;250m \u001b[39m\u001b[34m__init__\u001b[39m(\u001b[38;5;28mself\u001b[39m, display = \u001b[38;5;28;01mNone\u001b[39;00m):\n\u001b[32m---> \u001b[39m\u001b[32m80\u001b[39m     \u001b[38;5;28mself\u001b[39m.display = \u001b[43m_BaseDisplay\u001b[49m\u001b[43m(\u001b[49m\u001b[43mdisplay\u001b[49m\u001b[43m)\u001b[49m\n\u001b[32m     82\u001b[39m     \u001b[38;5;66;03m# Create the keymap cache\u001b[39;00m\n\u001b[32m     83\u001b[39m     \u001b[38;5;28mself\u001b[39m._keymap_codes = [()] * \u001b[32m256\u001b[39m\n",
      "\u001b[36mFile \u001b[39m\u001b[32m~/pose-estimation/.venv/lib/python3.12/site-packages/Xlib/display.py:62\u001b[39m, in \u001b[36m_BaseDisplay.__init__\u001b[39m\u001b[34m(self, *args, **keys)\u001b[39m\n\u001b[32m     61\u001b[39m \u001b[38;5;28;01mdef\u001b[39;00m\u001b[38;5;250m \u001b[39m\u001b[34m__init__\u001b[39m(\u001b[38;5;28mself\u001b[39m, *args, **keys):\n\u001b[32m---> \u001b[39m\u001b[32m62\u001b[39m     \u001b[43mdisplay\u001b[49m\u001b[43m.\u001b[49m\u001b[43mDisplay\u001b[49m\u001b[43m.\u001b[49m\u001b[34;43m__init__\u001b[39;49m\u001b[43m(\u001b[49m\u001b[43m*\u001b[49m\u001b[43m(\u001b[49m\u001b[38;5;28;43mself\u001b[39;49m\u001b[43m,\u001b[49m\u001b[43m \u001b[49m\u001b[43m)\u001b[49m\u001b[43m \u001b[49m\u001b[43m+\u001b[49m\u001b[43m \u001b[49m\u001b[43margs\u001b[49m\u001b[43m,\u001b[49m\u001b[43m \u001b[49m\u001b[43m*\u001b[49m\u001b[43m*\u001b[49m\u001b[43mkeys\u001b[49m\u001b[43m)\u001b[49m\n\u001b[32m     63\u001b[39m     \u001b[38;5;28mself\u001b[39m._atom_cache = {}\n",
      "\u001b[36mFile \u001b[39m\u001b[32m~/pose-estimation/.venv/lib/python3.12/site-packages/Xlib/protocol/display.py:60\u001b[39m, in \u001b[36mDisplay.__init__\u001b[39m\u001b[34m(self, display)\u001b[39m\n\u001b[32m     56\u001b[39m \u001b[38;5;28mself\u001b[39m.default_screen = screenno\n\u001b[32m     58\u001b[39m \u001b[38;5;28mself\u001b[39m.socket = connect.get_socket(name, host, displayno)\n\u001b[32m---> \u001b[39m\u001b[32m60\u001b[39m auth_name, auth_data = \u001b[43mconnect\u001b[49m\u001b[43m.\u001b[49m\u001b[43mget_auth\u001b[49m\u001b[43m(\u001b[49m\u001b[38;5;28;43mself\u001b[39;49m\u001b[43m.\u001b[49m\u001b[43msocket\u001b[49m\u001b[43m,\u001b[49m\n\u001b[32m     61\u001b[39m \u001b[43m                                        \u001b[49m\u001b[43mname\u001b[49m\u001b[43m,\u001b[49m\u001b[43m \u001b[49m\u001b[43mhost\u001b[49m\u001b[43m,\u001b[49m\u001b[43m \u001b[49m\u001b[43mdisplayno\u001b[49m\u001b[43m)\u001b[49m\n\u001b[32m     63\u001b[39m \u001b[38;5;66;03m# Internal structures for communication, grouped\u001b[39;00m\n\u001b[32m     64\u001b[39m \u001b[38;5;66;03m# by their function and locks\u001b[39;00m\n\u001b[32m     65\u001b[39m \n\u001b[32m     66\u001b[39m \u001b[38;5;66;03m# Socket error indicator, set when the socket is closed\u001b[39;00m\n\u001b[32m     67\u001b[39m \u001b[38;5;66;03m# in one way or another\u001b[39;00m\n\u001b[32m     68\u001b[39m \u001b[38;5;28mself\u001b[39m.socket_error_lock = lock.allocate_lock()\n",
      "\u001b[36mFile \u001b[39m\u001b[32m~/pose-estimation/.venv/lib/python3.12/site-packages/Xlib/support/connect.py:91\u001b[39m, in \u001b[36mget_auth\u001b[39m\u001b[34m(sock, dname, host, dno)\u001b[39m\n\u001b[32m     89\u001b[39m modname = _auth_mods.get(platform, _default_auth_mod)\n\u001b[32m     90\u001b[39m mod = \u001b[38;5;28m__import__\u001b[39m(modname, \u001b[38;5;28mglobals\u001b[39m(),level=\u001b[32m1\u001b[39m)\n\u001b[32m---> \u001b[39m\u001b[32m91\u001b[39m \u001b[38;5;28;01mreturn\u001b[39;00m \u001b[43mmod\u001b[49m\u001b[43m.\u001b[49m\u001b[43mget_auth\u001b[49m\u001b[43m(\u001b[49m\u001b[43msock\u001b[49m\u001b[43m,\u001b[49m\u001b[43m \u001b[49m\u001b[43mdname\u001b[49m\u001b[43m,\u001b[49m\u001b[43m \u001b[49m\u001b[43mhost\u001b[49m\u001b[43m,\u001b[49m\u001b[43m \u001b[49m\u001b[43mdno\u001b[49m\u001b[43m)\u001b[49m\n",
      "\u001b[36mFile \u001b[39m\u001b[32m~/pose-estimation/.venv/lib/python3.12/site-packages/Xlib/support/unix_connect.py:103\u001b[39m, in \u001b[36mnew_get_auth\u001b[39m\u001b[34m(sock, dname, host, dno)\u001b[39m\n\u001b[32m    100\u001b[39m     family = xauth.FamilyLocal\n\u001b[32m    101\u001b[39m     addr = socket.gethostname()\n\u001b[32m--> \u001b[39m\u001b[32m103\u001b[39m au = \u001b[43mxauth\u001b[49m\u001b[43m.\u001b[49m\u001b[43mXauthority\u001b[49m\u001b[43m(\u001b[49m\u001b[43m)\u001b[49m\n\u001b[32m    104\u001b[39m \u001b[38;5;28;01mwhile\u001b[39;00m \u001b[32m1\u001b[39m:\n\u001b[32m    105\u001b[39m     \u001b[38;5;28;01mtry\u001b[39;00m:\n",
      "\u001b[36mFile \u001b[39m\u001b[32m~/pose-estimation/.venv/lib/python3.12/site-packages/Xlib/xauth.py:45\u001b[39m, in \u001b[36mXauthority.__init__\u001b[39m\u001b[34m(self, filename)\u001b[39m\n\u001b[32m     43\u001b[39m     raw = \u001b[38;5;28mopen\u001b[39m(filename, \u001b[33m'\u001b[39m\u001b[33mrb\u001b[39m\u001b[33m'\u001b[39m).read()\n\u001b[32m     44\u001b[39m \u001b[38;5;28;01mexcept\u001b[39;00m \u001b[38;5;167;01mOSError\u001b[39;00m \u001b[38;5;28;01mas\u001b[39;00m err:\n\u001b[32m---> \u001b[39m\u001b[32m45\u001b[39m     \u001b[38;5;28;01mraise\u001b[39;00m error.XauthError(\u001b[33m'\u001b[39m\u001b[33m~/.Xauthority: \u001b[39m\u001b[38;5;132;01m%s\u001b[39;00m\u001b[33m'\u001b[39m % err)\n\u001b[32m     47\u001b[39m \u001b[38;5;28mself\u001b[39m.entries = []\n\u001b[32m     49\u001b[39m \u001b[38;5;66;03m# entry format (all shorts in big-endian)\u001b[39;00m\n\u001b[32m     50\u001b[39m \u001b[38;5;66;03m#   short family;\u001b[39;00m\n\u001b[32m     51\u001b[39m \u001b[38;5;66;03m#   short addrlen;\u001b[39;00m\n\u001b[32m   (...)\u001b[39m\u001b[32m     57\u001b[39m \u001b[38;5;66;03m#   short datalen;\u001b[39;00m\n\u001b[32m     58\u001b[39m \u001b[38;5;66;03m#   char data[datalen];\u001b[39;00m\n",
      "\u001b[31mXauthError\u001b[39m: ~/.Xauthority: [Errno 2] No such file or directory: '/home/cap/.Xauthority'"
     ]
    }
   ],
   "source": [
    "import cv2\n",
    "import numpy as np\n",
    "import pyautogui\n",
    "\n",
    "while True:\n",
    "    screenshot = pyautogui.screenshot()\n",
    "    frame = np.array(screenshot)\n",
    "    frame = cv2.cvtColor(frame, cv2.COLOR_RGB2BGR)\n",
    "\n",
    "    cv2.imshow('Live Screen Capture', frame)\n",
    "    \n",
    "    if cv2.waitKey(1) & 0xFF == ord('q'):\n",
    "        break\n",
    "\n",
    "cv2.destroyAllWindows()\n"
   ]
  },
  {
   "cell_type": "code",
   "execution_count": null,
   "id": "1141528d",
   "metadata": {},
   "outputs": [],
   "source": [
    "pip install pyautogui"
   ]
  },
  {
   "cell_type": "code",
   "execution_count": null,
   "id": "59f59899",
   "metadata": {},
   "outputs": [],
   "source": [
    "pip install mss"
   ]
  }
 ],
 "metadata": {
  "kernelspec": {
   "display_name": ".venv",
   "language": "python",
   "name": "python3"
  },
  "language_info": {
   "codemirror_mode": {
    "name": "ipython",
    "version": 3
   },
   "file_extension": ".py",
   "mimetype": "text/x-python",
   "name": "python",
   "nbconvert_exporter": "python",
   "pygments_lexer": "ipython3",
   "version": "3.12.3"
  }
 },
 "nbformat": 4,
 "nbformat_minor": 5
}
